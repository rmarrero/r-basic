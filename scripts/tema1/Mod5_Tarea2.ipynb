{
 "cells": [
  {
   "cell_type": "code",
   "execution_count": 1,
   "metadata": {},
   "outputs": [],
   "source": [
    "import math"
   ]
  },
  {
   "cell_type": "markdown",
   "metadata": {},
   "source": [
    "# Tarea 1 "
   ]
  },
  {
   "cell_type": "code",
   "execution_count": 7,
   "metadata": {},
   "outputs": [
    {
     "name": "stdout",
     "output_type": "stream",
     "text": [
      "Escribe un número:-100\n",
      "Has escrito un número negativo\n"
     ]
    }
   ],
   "source": [
    "numero = int(input(\"Escribe un número:\"))\n",
    "if numero < 0:\n",
    "    print(\"Has escrito un número negativo\")\n",
    "else:\n",
    "    print(\"Has escrito un número positivo \")"
   ]
  },
  {
   "cell_type": "markdown",
   "metadata": {},
   "source": [
    "# Tarea 2"
   ]
  },
  {
   "cell_type": "code",
   "execution_count": 18,
   "metadata": {},
   "outputs": [
    {
     "name": "stdout",
     "output_type": "stream",
     "text": [
      "Escribe un número:-6\n",
      "El número se encuentra fuera de rango\n"
     ]
    }
   ],
   "source": [
    "rango = int(input(\"Escribe un número:\"))\n",
    "if rango < -5 or rango > 5:\n",
    "    print(\"El número se encuentra fuera de rango\")\n",
    "else:\n",
    "    print(\"El número se encuentra dentro del rango(-5,5)\")"
   ]
  },
  {
   "cell_type": "markdown",
   "metadata": {},
   "source": [
    "# Tarea 3"
   ]
  },
  {
   "cell_type": "code",
   "execution_count": 19,
   "metadata": {},
   "outputs": [],
   "source": [
    "def coordenadas(y,x):\n",
    "    if x > 0 and y > 0:\n",
    "        print(\"La coordenada se encuentra en el Cuadrante I\")\n",
    "    elif x < 0 and y > 0:\n",
    "        print(\"La coordenada se encuentra en el Cuadrante II\")\n",
    "    elif x < 0 and y < 0:\n",
    "        print(\"la coordenada se encuentra en el Cuadrante III\")\n",
    "    else:\n",
    "        print(\"La coordenada se encuentra en el Cuadrante IV\")\n"
   ]
  },
  {
   "cell_type": "code",
   "execution_count": 20,
   "metadata": {},
   "outputs": [
    {
     "name": "stdout",
     "output_type": "stream",
     "text": [
      "La coordenada se encuentra en el Cuadrante I\n"
     ]
    }
   ],
   "source": [
    "coordenadas (5,4)"
   ]
  },
  {
   "cell_type": "code",
   "execution_count": 21,
   "metadata": {},
   "outputs": [
    {
     "name": "stdout",
     "output_type": "stream",
     "text": [
      "La coordenada se encuentra en el Cuadrante IV\n"
     ]
    }
   ],
   "source": [
    "coordenadas (-3,4)"
   ]
  },
  {
   "cell_type": "code",
   "execution_count": 22,
   "metadata": {},
   "outputs": [
    {
     "name": "stdout",
     "output_type": "stream",
     "text": [
      "La coordenada se encuentra en el Cuadrante I\n"
     ]
    }
   ],
   "source": [
    "coordenadas (3,3)"
   ]
  },
  {
   "cell_type": "code",
   "execution_count": 23,
   "metadata": {},
   "outputs": [
    {
     "name": "stdout",
     "output_type": "stream",
     "text": [
      "La coordenada se encuentra en el Cuadrante IV\n"
     ]
    }
   ],
   "source": [
    "coordenadas (-3,2)"
   ]
  },
  {
   "cell_type": "code",
   "execution_count": 24,
   "metadata": {},
   "outputs": [
    {
     "name": "stdout",
     "output_type": "stream",
     "text": [
      "la coordenada se encuentra en el Cuadrante III\n"
     ]
    }
   ],
   "source": [
    "coordenadas (-3,-3)"
   ]
  },
  {
   "cell_type": "code",
   "execution_count": 25,
   "metadata": {},
   "outputs": [
    {
     "name": "stdout",
     "output_type": "stream",
     "text": [
      "La coordenada se encuentra en el Cuadrante II\n"
     ]
    }
   ],
   "source": [
    "coordenadas(3,-4)"
   ]
  },
  {
   "cell_type": "markdown",
   "metadata": {},
   "source": [
    "# Tarea 4"
   ]
  },
  {
   "cell_type": "code",
   "execution_count": 30,
   "metadata": {},
   "outputs": [],
   "source": [
    "def division(x,y):\n",
    "    cociente = x//y\n",
    "    resto = x%y\n",
    "    return (cociente,resto)"
   ]
  },
  {
   "cell_type": "code",
   "execution_count": 31,
   "metadata": {},
   "outputs": [
    {
     "data": {
      "text/plain": [
       "(1, 2)"
      ]
     },
     "execution_count": 31,
     "metadata": {},
     "output_type": "execute_result"
    }
   ],
   "source": [
    "division (6,4)"
   ]
  },
  {
   "cell_type": "markdown",
   "metadata": {},
   "source": [
    "# Tarea 5"
   ]
  },
  {
   "cell_type": "code",
   "execution_count": 36,
   "metadata": {},
   "outputs": [],
   "source": [
    "def cuadrado(x,y):\n",
    "    if x^y == x*x:\n",
    "        print(\"Se trata de un cuadrado perfecto\")\n",
    "    else:\n",
    "        print(\"No se trata de un cuadrado perfecto\")"
   ]
  },
  {
   "cell_type": "code",
   "execution_count": 37,
   "metadata": {},
   "outputs": [
    {
     "name": "stdout",
     "output_type": "stream",
     "text": [
      "No se trata de un cuadrado perfecto\n"
     ]
    }
   ],
   "source": [
    "cuadrado (6,2)"
   ]
  },
  {
   "cell_type": "code",
   "execution_count": 39,
   "metadata": {},
   "outputs": [
    {
     "name": "stdout",
     "output_type": "stream",
     "text": [
      "No se trata de un cuadrado perfecto\n"
     ]
    }
   ],
   "source": [
    "cuadrado (6,3)"
   ]
  },
  {
   "cell_type": "code",
   "execution_count": 43,
   "metadata": {},
   "outputs": [
    {
     "name": "stdout",
     "output_type": "stream",
     "text": [
      "Introduce un número: 64\n",
      "Es un cuadrado perfecto\n"
     ]
    }
   ],
   "source": [
    "# ejemplo del instructor, se buscba que el numero que se introduce sea el \"resultado\" del cuadrado perfecto.\n",
    "from math import sqrt\n",
    "\n",
    "numero = int (input (\"Introduce un número: \"))\n",
    "\n",
    "if sqrt(numero).is_integer():\n",
    "\n",
    "    print (\"Es un cuadrado perfecto\")\n",
    "\n",
    "else:\n",
    "\n",
    "    print (\"No es un cuadrado perfecto\")"
   ]
  },
  {
   "cell_type": "markdown",
   "metadata": {},
   "source": [
    "# Tarea 6"
   ]
  },
  {
   "cell_type": "code",
   "execution_count": 45,
   "metadata": {},
   "outputs": [
    {
     "name": "stdout",
     "output_type": "stream",
     "text": [
      "Introduzca un año: 2010\n",
      "El año no es bisiesto.\n"
     ]
    }
   ],
   "source": [
    "year = int (input (\"Introduzca un año: \"))\n",
    "\n",
    "if year % 4 == 0:\n",
    "\n",
    "    if year % 100 == 0:\n",
    "\n",
    "        if year % 400 == 0:\n",
    "\n",
    "            print('El año es bisiesto')\n",
    "\n",
    "        else:\n",
    "\n",
    "            print('El año no es bisiesto')\n",
    "\n",
    "    else:\n",
    "\n",
    "        print('El año es bisiesto.')\n",
    "\n",
    "else:\n",
    "\n",
    "    print('El año no es bisiesto.')"
   ]
  },
  {
   "cell_type": "code",
   "execution_count": null,
   "metadata": {},
   "outputs": [],
   "source": []
  }
 ],
 "metadata": {
  "kernelspec": {
   "display_name": "Python 3",
   "language": "python",
   "name": "python3"
  },
  "language_info": {
   "codemirror_mode": {
    "name": "ipython",
    "version": 3
   },
   "file_extension": ".py",
   "mimetype": "text/x-python",
   "name": "python",
   "nbconvert_exporter": "python",
   "pygments_lexer": "ipython3",
   "version": "3.8.5"
  }
 },
 "nbformat": 4,
 "nbformat_minor": 4
}
